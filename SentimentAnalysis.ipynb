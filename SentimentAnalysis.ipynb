{
  "cells": [
    {
      "cell_type": "markdown",
      "metadata": {
        "id": "WBVMgvuZxGB6"
      },
      "source": [
        "# Twitter Sentiment Analysis"
      ]
    },
    {
      "cell_type": "markdown",
      "metadata": {
        "id": "_tfOzjykxGB7"
      },
      "source": [
        "# <center> <img src=\"https://miro.medium.com/max/700/1*0OVev9mGkNJblfkOxkknAQ.png\"> </center>"
      ]
    },
    {
      "cell_type": "markdown",
      "metadata": {
        "id": "6AOQ8gZLxGB8"
      },
      "source": [
        "Devise a sentimental analyzer for overcoming the challenges to identify the twitter tweets text sentiments (positive, negative) by implementing neural network using tensorflow.\n",
        "\n",
        "After training the model, we apply the evaluation measures to check that how the model is getting predictions. We will use the following evaluation measures to evaluate the performance of the models:\n",
        "- Accuracy\n",
        "- Confusion matrix with plot\n",
        "- ROC Curve\n",
        "\n",
        "Technical Approach:\n",
        "We are using python language in the implementations and Jupter Notebook that support the machine learning and data science projects. We will build tensorflow based model. We will use Sentiment 140 dataset and split that data into 80% for training, 10% for validation, and 10% for the testing purposes. After training on the model, we will evaluate the model to evaluate the performance of trained model\n",
        "\n",
        "Dataset:\"https://www.kaggle.com/kazanova/sentiment140\""
      ]
    },
    {
      "cell_type": "markdown",
      "metadata": {
        "id": "f10qLA3fxGB-"
      },
      "source": [
        "## Importing Python Libraries"
      ]
    },
    {
      "cell_type": "markdown",
      "metadata": {
        "id": "UfTq3-f1xGB_"
      },
      "source": [
        "- Libraries are important and we call them to perform the different actions on our data and for training the models.\n",
        "- Its a first step to load the library to perform the specific task"
      ]
    },
    {
      "cell_type": "code",
      "execution_count": 1,
      "metadata": {
        "colab": {
          "base_uri": "https://localhost:8080/"
        },
        "id": "Hq8hpmLGxGB_",
        "outputId": "eed04e9f-28dc-4d8e-b27d-98415ccadbf9"
      },
      "outputs": [],
      "source": [
        "# !pip install nltk"
      ]
    },
    {
      "cell_type": "code",
      "execution_count": 2,
      "metadata": {
        "colab": {
          "base_uri": "https://localhost:8080/"
        },
        "id": "Mt9tIH-1xGCB",
        "outputId": "ab0b03e5-7fca-4ee3-893b-fcc3d965ac42"
      },
      "outputs": [
        {
          "name": "stderr",
          "output_type": "stream",
          "text": [
            "[nltk_data] Downloading package punkt to\n",
            "[nltk_data]     C:\\Users\\micha\\AppData\\Roaming\\nltk_data...\n",
            "[nltk_data]   Package punkt is already up-to-date!\n",
            "[nltk_data] Downloading package stopwords to\n",
            "[nltk_data]     C:\\Users\\micha\\AppData\\Roaming\\nltk_data...\n",
            "[nltk_data]   Package stopwords is already up-to-date!\n",
            "[nltk_data] Downloading package wordnet to\n",
            "[nltk_data]     C:\\Users\\micha\\AppData\\Roaming\\nltk_data...\n",
            "[nltk_data]   Package wordnet is already up-to-date!\n"
          ]
        },
        {
          "data": {
            "text/plain": [
              "True"
            ]
          },
          "execution_count": 2,
          "metadata": {},
          "output_type": "execute_result"
        }
      ],
      "source": [
        "import nltk\n",
        "nltk.download('punkt')\n",
        "nltk.download('stopwords')\n",
        "nltk.download('wordnet')"
      ]
    },
    {
      "cell_type": "code",
      "execution_count": 3,
      "metadata": {
        "id": "-E4TvIVLMa73",
        "scrolled": true
      },
      "outputs": [],
      "source": [
        "import numpy as np\n",
        "import pandas as pd\n",
        "import seaborn as sns\n",
        "import matplotlib.pyplot as plt\n",
        "from sklearn.metrics import roc_curve, auc\n",
        "from sklearn.metrics import classification_report, confusion_matrix\n",
        "from nltk.corpus import stopwords\n",
        "from nltk.stem import PorterStemmer\n",
        "from sklearn.model_selection import train_test_split\n",
        "from nltk.tokenize import RegexpTokenizer\n",
        "import re\n",
        "import string\n",
        "import tensorflow as tf\n",
        "from tensorflow.keras.layers import LSTM, Activation, Dense, Dropout, Input, Embedding, GlobalAveragePooling1D\n",
        "from tensorflow.keras.models import Model\n",
        "from tensorflow.keras.optimizers import RMSprop, Adam\n",
        "from tensorflow.keras.preprocessing.text import Tokenizer\n",
        "from tensorflow.keras.preprocessing import sequence\n",
        "%matplotlib inline\n",
        "\n",
        "import warnings\n",
        "warnings.filterwarnings(\"ignore\")"
      ]
    },
    {
      "cell_type": "markdown",
      "metadata": {
        "id": "fxBA-wsrxGCD"
      },
      "source": [
        "## Loading the Data"
      ]
    },
    {
      "cell_type": "code",
      "execution_count": 4,
      "metadata": {
        "id": "cSWfVRV3vYkM"
      },
      "outputs": [],
      "source": [
        "# pip install kaggle"
      ]
    },
    {
      "cell_type": "code",
      "execution_count": 5,
      "metadata": {
        "id": "5uQ0Vm9A1qj0"
      },
      "outputs": [],
      "source": [
        "# mkdir ~/.kaggle"
      ]
    },
    {
      "cell_type": "code",
      "execution_count": 6,
      "metadata": {
        "id": "lBSjSZII1w3Z"
      },
      "outputs": [],
      "source": [
        "# cp kaggle.json ~/.kaggle/"
      ]
    },
    {
      "cell_type": "code",
      "execution_count": 7,
      "metadata": {
        "id": "yrlJOWJp1zUE"
      },
      "outputs": [],
      "source": [
        "# !chmod 600 ~/.kaggle/kaggle.json"
      ]
    },
    {
      "cell_type": "code",
      "execution_count": 8,
      "metadata": {
        "colab": {
          "base_uri": "https://localhost:8080/"
        },
        "id": "PfcRnABQ1_HF",
        "outputId": "bc3973fe-f03d-40b1-e3f3-b652d6a3f160"
      },
      "outputs": [
        {
          "name": "stderr",
          "output_type": "stream",
          "text": [
            "'kaggle' is not recognized as an internal or external command,\n",
            "operable program or batch file.\n"
          ]
        }
      ],
      "source": [
        "! kaggle datasets download kazanova/sentiment140"
      ]
    },
    {
      "cell_type": "code",
      "execution_count": 9,
      "metadata": {
        "id": "iIjhNguX2RAa"
      },
      "outputs": [],
      "source": [
        "# import zipfile\n",
        "# zip_file = zipfile.ZipFile(\"/content/sentiment140.zip\")\n",
        "# zip_file.extractall(\"/tmp/\")"
      ]
    },
    {
      "cell_type": "code",
      "execution_count": 10,
      "metadata": {
        "colab": {
          "base_uri": "https://localhost:8080/",
          "height": 310
        },
        "id": "rldOuCUUsSkR",
        "outputId": "1f4a8a75-98f4-4f45-a5e7-f1e11c854181"
      },
      "outputs": [
        {
          "data": {
            "text/html": [
              "<div>\n",
              "<style scoped>\n",
              "    .dataframe tbody tr th:only-of-type {\n",
              "        vertical-align: middle;\n",
              "    }\n",
              "\n",
              "    .dataframe tbody tr th {\n",
              "        vertical-align: top;\n",
              "    }\n",
              "\n",
              "    .dataframe thead th {\n",
              "        text-align: right;\n",
              "    }\n",
              "</style>\n",
              "<table border=\"1\" class=\"dataframe\">\n",
              "  <thead>\n",
              "    <tr style=\"text-align: right;\">\n",
              "      <th></th>\n",
              "      <th>0</th>\n",
              "      <th>1467810369</th>\n",
              "      <th>Mon Apr 06 22:19:45 PDT 2009</th>\n",
              "      <th>NO_QUERY</th>\n",
              "      <th>_TheSpecialOne_</th>\n",
              "      <th>@switchfoot http://twitpic.com/2y1zl - Awww, that's a bummer.  You shoulda got David Carr of Third Day to do it. ;D</th>\n",
              "    </tr>\n",
              "  </thead>\n",
              "  <tbody>\n",
              "    <tr>\n",
              "      <th>0</th>\n",
              "      <td>0</td>\n",
              "      <td>1467810672</td>\n",
              "      <td>Mon Apr 06 22:19:49 PDT 2009</td>\n",
              "      <td>NO_QUERY</td>\n",
              "      <td>scotthamilton</td>\n",
              "      <td>is upset that he can't update his Facebook by ...</td>\n",
              "    </tr>\n",
              "    <tr>\n",
              "      <th>1</th>\n",
              "      <td>0</td>\n",
              "      <td>1467810917</td>\n",
              "      <td>Mon Apr 06 22:19:53 PDT 2009</td>\n",
              "      <td>NO_QUERY</td>\n",
              "      <td>mattycus</td>\n",
              "      <td>@Kenichan I dived many times for the ball. Man...</td>\n",
              "    </tr>\n",
              "    <tr>\n",
              "      <th>2</th>\n",
              "      <td>0</td>\n",
              "      <td>1467811184</td>\n",
              "      <td>Mon Apr 06 22:19:57 PDT 2009</td>\n",
              "      <td>NO_QUERY</td>\n",
              "      <td>ElleCTF</td>\n",
              "      <td>my whole body feels itchy and like its on fire</td>\n",
              "    </tr>\n",
              "    <tr>\n",
              "      <th>3</th>\n",
              "      <td>0</td>\n",
              "      <td>1467811193</td>\n",
              "      <td>Mon Apr 06 22:19:57 PDT 2009</td>\n",
              "      <td>NO_QUERY</td>\n",
              "      <td>Karoli</td>\n",
              "      <td>@nationwideclass no, it's not behaving at all....</td>\n",
              "    </tr>\n",
              "    <tr>\n",
              "      <th>4</th>\n",
              "      <td>0</td>\n",
              "      <td>1467811372</td>\n",
              "      <td>Mon Apr 06 22:20:00 PDT 2009</td>\n",
              "      <td>NO_QUERY</td>\n",
              "      <td>joy_wolf</td>\n",
              "      <td>@Kwesidei not the whole crew</td>\n",
              "    </tr>\n",
              "  </tbody>\n",
              "</table>\n",
              "</div>"
            ],
            "text/plain": [
              "   0  1467810369  Mon Apr 06 22:19:45 PDT 2009  NO_QUERY _TheSpecialOne_  \\\n",
              "0  0  1467810672  Mon Apr 06 22:19:49 PDT 2009  NO_QUERY   scotthamilton   \n",
              "1  0  1467810917  Mon Apr 06 22:19:53 PDT 2009  NO_QUERY        mattycus   \n",
              "2  0  1467811184  Mon Apr 06 22:19:57 PDT 2009  NO_QUERY         ElleCTF   \n",
              "3  0  1467811193  Mon Apr 06 22:19:57 PDT 2009  NO_QUERY          Karoli   \n",
              "4  0  1467811372  Mon Apr 06 22:20:00 PDT 2009  NO_QUERY        joy_wolf   \n",
              "\n",
              "  @switchfoot http://twitpic.com/2y1zl - Awww, that's a bummer.  You shoulda got David Carr of Third Day to do it. ;D  \n",
              "0  is upset that he can't update his Facebook by ...                                                                   \n",
              "1  @Kenichan I dived many times for the ball. Man...                                                                   \n",
              "2    my whole body feels itchy and like its on fire                                                                    \n",
              "3  @nationwideclass no, it's not behaving at all....                                                                   \n",
              "4                      @Kwesidei not the whole crew                                                                    "
            ]
          },
          "execution_count": 10,
          "metadata": {},
          "output_type": "execute_result"
        }
      ],
      "source": [
        "dataset = pd.read_csv(\"./training.1600000.processed.noemoticon.csv\",encoding = \"ISO-8859-1\")\n",
        "dataset.head()"
      ]
    },
    {
      "cell_type": "code",
      "execution_count": 11,
      "metadata": {
        "id": "yhBk6X3KxGCD"
      },
      "outputs": [],
      "source": [
        "dataset.columns = [\"label\", \"time\", \"date\", \"query\", \"username\", \"text\"]"
      ]
    },
    {
      "cell_type": "markdown",
      "metadata": {
        "id": "kkV3pTlUxGCI"
      },
      "source": [
        "## EDA\n",
        "</div>"
      ]
    },
    {
      "cell_type": "markdown",
      "metadata": {
        "id": "kWuHIWZOxGCJ"
      },
      "source": [
        "#### Five top records of data"
      ]
    },
    {
      "cell_type": "code",
      "execution_count": 12,
      "metadata": {
        "colab": {
          "base_uri": "https://localhost:8080/",
          "height": 206
        },
        "id": "tl2EflcAxGCJ",
        "outputId": "147f9263-652f-4fed-c91e-17a56dde5a79"
      },
      "outputs": [
        {
          "data": {
            "text/html": [
              "<div>\n",
              "<style scoped>\n",
              "    .dataframe tbody tr th:only-of-type {\n",
              "        vertical-align: middle;\n",
              "    }\n",
              "\n",
              "    .dataframe tbody tr th {\n",
              "        vertical-align: top;\n",
              "    }\n",
              "\n",
              "    .dataframe thead th {\n",
              "        text-align: right;\n",
              "    }\n",
              "</style>\n",
              "<table border=\"1\" class=\"dataframe\">\n",
              "  <thead>\n",
              "    <tr style=\"text-align: right;\">\n",
              "      <th></th>\n",
              "      <th>label</th>\n",
              "      <th>time</th>\n",
              "      <th>date</th>\n",
              "      <th>query</th>\n",
              "      <th>username</th>\n",
              "      <th>text</th>\n",
              "    </tr>\n",
              "  </thead>\n",
              "  <tbody>\n",
              "    <tr>\n",
              "      <th>0</th>\n",
              "      <td>0</td>\n",
              "      <td>1467810672</td>\n",
              "      <td>Mon Apr 06 22:19:49 PDT 2009</td>\n",
              "      <td>NO_QUERY</td>\n",
              "      <td>scotthamilton</td>\n",
              "      <td>is upset that he can't update his Facebook by ...</td>\n",
              "    </tr>\n",
              "    <tr>\n",
              "      <th>1</th>\n",
              "      <td>0</td>\n",
              "      <td>1467810917</td>\n",
              "      <td>Mon Apr 06 22:19:53 PDT 2009</td>\n",
              "      <td>NO_QUERY</td>\n",
              "      <td>mattycus</td>\n",
              "      <td>@Kenichan I dived many times for the ball. Man...</td>\n",
              "    </tr>\n",
              "    <tr>\n",
              "      <th>2</th>\n",
              "      <td>0</td>\n",
              "      <td>1467811184</td>\n",
              "      <td>Mon Apr 06 22:19:57 PDT 2009</td>\n",
              "      <td>NO_QUERY</td>\n",
              "      <td>ElleCTF</td>\n",
              "      <td>my whole body feels itchy and like its on fire</td>\n",
              "    </tr>\n",
              "    <tr>\n",
              "      <th>3</th>\n",
              "      <td>0</td>\n",
              "      <td>1467811193</td>\n",
              "      <td>Mon Apr 06 22:19:57 PDT 2009</td>\n",
              "      <td>NO_QUERY</td>\n",
              "      <td>Karoli</td>\n",
              "      <td>@nationwideclass no, it's not behaving at all....</td>\n",
              "    </tr>\n",
              "    <tr>\n",
              "      <th>4</th>\n",
              "      <td>0</td>\n",
              "      <td>1467811372</td>\n",
              "      <td>Mon Apr 06 22:20:00 PDT 2009</td>\n",
              "      <td>NO_QUERY</td>\n",
              "      <td>joy_wolf</td>\n",
              "      <td>@Kwesidei not the whole crew</td>\n",
              "    </tr>\n",
              "  </tbody>\n",
              "</table>\n",
              "</div>"
            ],
            "text/plain": [
              "   label        time                          date     query       username  \\\n",
              "0      0  1467810672  Mon Apr 06 22:19:49 PDT 2009  NO_QUERY  scotthamilton   \n",
              "1      0  1467810917  Mon Apr 06 22:19:53 PDT 2009  NO_QUERY       mattycus   \n",
              "2      0  1467811184  Mon Apr 06 22:19:57 PDT 2009  NO_QUERY        ElleCTF   \n",
              "3      0  1467811193  Mon Apr 06 22:19:57 PDT 2009  NO_QUERY         Karoli   \n",
              "4      0  1467811372  Mon Apr 06 22:20:00 PDT 2009  NO_QUERY       joy_wolf   \n",
              "\n",
              "                                                text  \n",
              "0  is upset that he can't update his Facebook by ...  \n",
              "1  @Kenichan I dived many times for the ball. Man...  \n",
              "2    my whole body feels itchy and like its on fire   \n",
              "3  @nationwideclass no, it's not behaving at all....  \n",
              "4                      @Kwesidei not the whole crew   "
            ]
          },
          "execution_count": 12,
          "metadata": {},
          "output_type": "execute_result"
        }
      ],
      "source": [
        "dataset.head()"
      ]
    },
    {
      "cell_type": "markdown",
      "metadata": {
        "id": "nq-6PQR2xGCJ"
      },
      "source": [
        "#### Five last records of data"
      ]
    },
    {
      "cell_type": "code",
      "execution_count": 13,
      "metadata": {
        "colab": {
          "base_uri": "https://localhost:8080/",
          "height": 206
        },
        "id": "rpOyCQ9QxGCK",
        "outputId": "49e377e7-dcf2-495d-d24c-7cfec723484b"
      },
      "outputs": [
        {
          "data": {
            "text/html": [
              "<div>\n",
              "<style scoped>\n",
              "    .dataframe tbody tr th:only-of-type {\n",
              "        vertical-align: middle;\n",
              "    }\n",
              "\n",
              "    .dataframe tbody tr th {\n",
              "        vertical-align: top;\n",
              "    }\n",
              "\n",
              "    .dataframe thead th {\n",
              "        text-align: right;\n",
              "    }\n",
              "</style>\n",
              "<table border=\"1\" class=\"dataframe\">\n",
              "  <thead>\n",
              "    <tr style=\"text-align: right;\">\n",
              "      <th></th>\n",
              "      <th>label</th>\n",
              "      <th>time</th>\n",
              "      <th>date</th>\n",
              "      <th>query</th>\n",
              "      <th>username</th>\n",
              "      <th>text</th>\n",
              "    </tr>\n",
              "  </thead>\n",
              "  <tbody>\n",
              "    <tr>\n",
              "      <th>1599994</th>\n",
              "      <td>4</td>\n",
              "      <td>2193601966</td>\n",
              "      <td>Tue Jun 16 08:40:49 PDT 2009</td>\n",
              "      <td>NO_QUERY</td>\n",
              "      <td>AmandaMarie1028</td>\n",
              "      <td>Just woke up. Having no school is the best fee...</td>\n",
              "    </tr>\n",
              "    <tr>\n",
              "      <th>1599995</th>\n",
              "      <td>4</td>\n",
              "      <td>2193601969</td>\n",
              "      <td>Tue Jun 16 08:40:49 PDT 2009</td>\n",
              "      <td>NO_QUERY</td>\n",
              "      <td>TheWDBoards</td>\n",
              "      <td>TheWDB.com - Very cool to hear old Walt interv...</td>\n",
              "    </tr>\n",
              "    <tr>\n",
              "      <th>1599996</th>\n",
              "      <td>4</td>\n",
              "      <td>2193601991</td>\n",
              "      <td>Tue Jun 16 08:40:49 PDT 2009</td>\n",
              "      <td>NO_QUERY</td>\n",
              "      <td>bpbabe</td>\n",
              "      <td>Are you ready for your MoJo Makeover? Ask me f...</td>\n",
              "    </tr>\n",
              "    <tr>\n",
              "      <th>1599997</th>\n",
              "      <td>4</td>\n",
              "      <td>2193602064</td>\n",
              "      <td>Tue Jun 16 08:40:49 PDT 2009</td>\n",
              "      <td>NO_QUERY</td>\n",
              "      <td>tinydiamondz</td>\n",
              "      <td>Happy 38th Birthday to my boo of alll time!!! ...</td>\n",
              "    </tr>\n",
              "    <tr>\n",
              "      <th>1599998</th>\n",
              "      <td>4</td>\n",
              "      <td>2193602129</td>\n",
              "      <td>Tue Jun 16 08:40:50 PDT 2009</td>\n",
              "      <td>NO_QUERY</td>\n",
              "      <td>RyanTrevMorris</td>\n",
              "      <td>happy #charitytuesday @theNSPCC @SparksCharity...</td>\n",
              "    </tr>\n",
              "  </tbody>\n",
              "</table>\n",
              "</div>"
            ],
            "text/plain": [
              "         label        time                          date     query  \\\n",
              "1599994      4  2193601966  Tue Jun 16 08:40:49 PDT 2009  NO_QUERY   \n",
              "1599995      4  2193601969  Tue Jun 16 08:40:49 PDT 2009  NO_QUERY   \n",
              "1599996      4  2193601991  Tue Jun 16 08:40:49 PDT 2009  NO_QUERY   \n",
              "1599997      4  2193602064  Tue Jun 16 08:40:49 PDT 2009  NO_QUERY   \n",
              "1599998      4  2193602129  Tue Jun 16 08:40:50 PDT 2009  NO_QUERY   \n",
              "\n",
              "                username                                               text  \n",
              "1599994  AmandaMarie1028  Just woke up. Having no school is the best fee...  \n",
              "1599995      TheWDBoards  TheWDB.com - Very cool to hear old Walt interv...  \n",
              "1599996           bpbabe  Are you ready for your MoJo Makeover? Ask me f...  \n",
              "1599997     tinydiamondz  Happy 38th Birthday to my boo of alll time!!! ...  \n",
              "1599998   RyanTrevMorris  happy #charitytuesday @theNSPCC @SparksCharity...  "
            ]
          },
          "execution_count": 13,
          "metadata": {},
          "output_type": "execute_result"
        }
      ],
      "source": [
        "dataset.tail()"
      ]
    },
    {
      "cell_type": "markdown",
      "metadata": {
        "id": "czpAp00TxGCK"
      },
      "source": [
        "#### Coloumns/features in data"
      ]
    },
    {
      "cell_type": "code",
      "execution_count": 14,
      "metadata": {
        "colab": {
          "base_uri": "https://localhost:8080/"
        },
        "id": "KtSlokPixGCK",
        "outputId": "b24dfe8a-a70f-4538-ee30-d2df95a325d3"
      },
      "outputs": [
        {
          "data": {
            "text/plain": [
              "Index(['label', 'time', 'date', 'query', 'username', 'text'], dtype='object')"
            ]
          },
          "execution_count": 14,
          "metadata": {},
          "output_type": "execute_result"
        }
      ],
      "source": [
        "dataset.columns"
      ]
    },
    {
      "cell_type": "markdown",
      "metadata": {
        "id": "o_0vJdAaxGCK"
      },
      "source": [
        "#### Length of data"
      ]
    },
    {
      "cell_type": "code",
      "execution_count": 15,
      "metadata": {
        "colab": {
          "base_uri": "https://localhost:8080/"
        },
        "id": "TzYILzifxGCL",
        "outputId": "30aead4d-5750-4de6-b50e-5b58b9135912"
      },
      "outputs": [
        {
          "name": "stdout",
          "output_type": "stream",
          "text": [
            "lenght of data is 1599999\n"
          ]
        }
      ],
      "source": [
        "print('lenght of data is', len(dataset))"
      ]
    },
    {
      "cell_type": "markdown",
      "metadata": {
        "id": "jMm3drzxxGCL"
      },
      "source": [
        "#### Shape of data"
      ]
    },
    {
      "cell_type": "code",
      "execution_count": 16,
      "metadata": {
        "colab": {
          "base_uri": "https://localhost:8080/"
        },
        "id": "-9qpSfTIxGCL",
        "outputId": "f3462ab5-c1bd-48c8-9318-1a0b30600de3"
      },
      "outputs": [
        {
          "data": {
            "text/plain": [
              "(1599999, 6)"
            ]
          },
          "execution_count": 16,
          "metadata": {},
          "output_type": "execute_result"
        }
      ],
      "source": [
        "dataset.shape"
      ]
    },
    {
      "cell_type": "markdown",
      "metadata": {
        "id": "AIecAw5kxGCM"
      },
      "source": [
        "#### Data information"
      ]
    },
    {
      "cell_type": "code",
      "execution_count": 17,
      "metadata": {
        "colab": {
          "base_uri": "https://localhost:8080/"
        },
        "id": "a7iH2viKxGCM",
        "outputId": "f1c1774b-a9d1-4eb8-c044-211a025b322f"
      },
      "outputs": [
        {
          "name": "stdout",
          "output_type": "stream",
          "text": [
            "<class 'pandas.core.frame.DataFrame'>\n",
            "RangeIndex: 1599999 entries, 0 to 1599998\n",
            "Data columns (total 6 columns):\n",
            " #   Column    Non-Null Count    Dtype \n",
            "---  ------    --------------    ----- \n",
            " 0   label     1599999 non-null  int64 \n",
            " 1   time      1599999 non-null  int64 \n",
            " 2   date      1599999 non-null  object\n",
            " 3   query     1599999 non-null  object\n",
            " 4   username  1599999 non-null  object\n",
            " 5   text      1599999 non-null  object\n",
            "dtypes: int64(2), object(4)\n",
            "memory usage: 73.2+ MB\n"
          ]
        }
      ],
      "source": [
        "dataset.info()"
      ]
    },
    {
      "cell_type": "code",
      "execution_count": 18,
      "metadata": {
        "colab": {
          "base_uri": "https://localhost:8080/",
          "height": 178
        },
        "id": "jLb-uz05Kh7F",
        "outputId": "f2e547e8-f6bc-4285-a22e-b6719b0a66ad"
      },
      "outputs": [
        {
          "data": {
            "text/plain": [
              "label\n",
              "4    800000\n",
              "0    799999\n",
              "Name: count, dtype: int64"
            ]
          },
          "execution_count": 18,
          "metadata": {},
          "output_type": "execute_result"
        }
      ],
      "source": [
        "dataset[\"label\"].value_counts()"
      ]
    },
    {
      "cell_type": "markdown",
      "metadata": {
        "id": "rQPmr56gxGCM"
      },
      "source": [
        "#### Data types of all coloumns"
      ]
    },
    {
      "cell_type": "code",
      "execution_count": 19,
      "metadata": {
        "colab": {
          "base_uri": "https://localhost:8080/",
          "height": 272
        },
        "id": "YLZQiy46xGCM",
        "outputId": "dfe250a1-5230-42eb-ead6-c75ea691de9a"
      },
      "outputs": [
        {
          "data": {
            "text/plain": [
              "label        int64\n",
              "time         int64\n",
              "date        object\n",
              "query       object\n",
              "username    object\n",
              "text        object\n",
              "dtype: object"
            ]
          },
          "execution_count": 19,
          "metadata": {},
          "output_type": "execute_result"
        }
      ],
      "source": [
        "dataset.dtypes"
      ]
    },
    {
      "cell_type": "markdown",
      "metadata": {
        "id": "g8IjNErDxGCM"
      },
      "source": [
        "#### Checking Null values"
      ]
    },
    {
      "cell_type": "code",
      "execution_count": 20,
      "metadata": {
        "colab": {
          "base_uri": "https://localhost:8080/"
        },
        "id": "Cpjgu26GxGCN",
        "outputId": "338d8f6c-8e89-46f8-dff2-2ed029e833cd",
        "scrolled": true
      },
      "outputs": [
        {
          "data": {
            "text/plain": [
              "0"
            ]
          },
          "execution_count": 20,
          "metadata": {},
          "output_type": "execute_result"
        }
      ],
      "source": [
        "np.sum(dataset.isnull().any(axis=1))"
      ]
    },
    {
      "cell_type": "markdown",
      "metadata": {
        "id": "ma2oN3tbxGCN"
      },
      "source": [
        "#### Rows and columns in the dataset"
      ]
    },
    {
      "cell_type": "code",
      "execution_count": 21,
      "metadata": {
        "colab": {
          "base_uri": "https://localhost:8080/"
        },
        "id": "rDbcir2VxGCN",
        "outputId": "d40da83f-b04a-497f-b413-3613279e7ca0"
      },
      "outputs": [
        {
          "name": "stdout",
          "output_type": "stream",
          "text": [
            "Count of columns in the data is:   6\n"
          ]
        }
      ],
      "source": [
        "print('Count of columns in the data is:  ', len(dataset.columns))"
      ]
    },
    {
      "cell_type": "code",
      "execution_count": 22,
      "metadata": {
        "colab": {
          "base_uri": "https://localhost:8080/"
        },
        "id": "82M7AP6LxGCN",
        "outputId": "d1a252b4-35b8-4033-9731-12f81272862d"
      },
      "outputs": [
        {
          "name": "stdout",
          "output_type": "stream",
          "text": [
            "Count of rows in the data is:   1599999\n"
          ]
        }
      ],
      "source": [
        "print('Count of rows in the data is:  ', len(dataset))"
      ]
    },
    {
      "cell_type": "markdown",
      "metadata": {
        "id": "5A930DRPxGCO"
      },
      "source": [
        "## Data Preparation\n",
        "- Selection of interested columns.\n",
        "- Assigned 1 to class 4.\n",
        "- Took one-fourth of the data for easier processing.\n",
        "- Combined positive and negative tweets.\n",
        "- Convert text to lowercase for further processing on tweet text.\n",
        "- Clean and remove stop words (e.g., \"of\", \"a\", \"in\") as they do not support sentiment labels.\n",
        "- Clean and remove punctuations as they add noise and are not meaningful.\n",
        "- Clean and remove repeating characters in words.\n",
        "- Clean and remove emails.\n",
        "- Clean and remove URLs.\n",
        "- Clean and remove numbers from the data.\n",
        "- Apply tokenization (separating sentences into words).\n",
        "- Apply stemming and lemmatization:\n",
        "- Stemming: Reduce words to their root form.\n",
        "- Lemmatization: Convert words to their base form.\n",
        "- Apply stemming on the tweet text.\n",
        "- Apply lemmatization on the tweet text.\n",
        "- Separate input features and labels.\n",
        "- Extract features from input features.\n",
        "- Separate 80% of the data for training, 10% for validation, and 10% for testing."
      ]
    },
    {
      "cell_type": "markdown",
      "metadata": {
        "id": "40loe8nTxGCO"
      },
      "source": [
        "#### Selecting the text and label column"
      ]
    },
    {
      "cell_type": "code",
      "execution_count": 23,
      "metadata": {
        "id": "6t3IuvSFxGCP"
      },
      "outputs": [],
      "source": [
        "data=dataset[['text','label']]"
      ]
    },
    {
      "cell_type": "markdown",
      "metadata": {
        "id": "q1tDyoq3xGCQ"
      },
      "source": [
        "#### Assigning 1 to Positive sentment 4"
      ]
    },
    {
      "cell_type": "code",
      "execution_count": 24,
      "metadata": {
        "id": "2uoei44CxGCQ"
      },
      "outputs": [],
      "source": [
        "data['label'][data['label']==4]=1"
      ]
    },
    {
      "cell_type": "markdown",
      "metadata": {
        "id": "3NE1wrmjxGCQ"
      },
      "source": [
        "#### Separating positive and negative tweets"
      ]
    },
    {
      "cell_type": "code",
      "execution_count": 25,
      "metadata": {
        "id": "Q42-F9NMxGCR"
      },
      "outputs": [],
      "source": [
        "data_pos = data[data['label'] == 1]\n",
        "data_neg = data[data['label'] == 0]"
      ]
    },
    {
      "cell_type": "markdown",
      "metadata": {
        "id": "Ed-XGhN9xGCR"
      },
      "source": [
        "#### does not use all data so we can run it on our machine easily"
      ]
    },
    {
      "cell_type": "code",
      "execution_count": 26,
      "metadata": {
        "id": "w8q-NQhNxGCS"
      },
      "outputs": [],
      "source": [
        "data_pos = data_pos.iloc[:int(200000)]\n",
        "data_neg = data_neg.iloc[:int(200000)]"
      ]
    },
    {
      "cell_type": "markdown",
      "metadata": {
        "id": "4T7xdcjKxGCS"
      },
      "source": [
        "#### Combining positive and negative tweets"
      ]
    },
    {
      "cell_type": "code",
      "execution_count": 27,
      "metadata": {
        "id": "65fCdrdqxGCT"
      },
      "outputs": [],
      "source": [
        "data = pd.concat([data_pos, data_neg])"
      ]
    },
    {
      "cell_type": "markdown",
      "metadata": {
        "id": "i0Xs1aPVxGCT"
      },
      "source": [
        "#### Making statement text in lower case"
      ]
    },
    {
      "cell_type": "code",
      "execution_count": 28,
      "metadata": {
        "colab": {
          "base_uri": "https://localhost:8080/"
        },
        "id": "IdWyVrv2DQtg",
        "outputId": "d66052d0-5847-44f8-8069-a324cdb8ad05"
      },
      "outputs": [
        {
          "data": {
            "text/plain": [
              "(400000, 2)"
            ]
          },
          "execution_count": 28,
          "metadata": {},
          "output_type": "execute_result"
        }
      ],
      "source": [
        "data.shape"
      ]
    },
    {
      "cell_type": "code",
      "execution_count": 29,
      "metadata": {
        "id": "EkW1PWGPxGCT"
      },
      "outputs": [],
      "source": [
        "data['text']=data['text'].str.lower()"
      ]
    },
    {
      "cell_type": "code",
      "execution_count": 30,
      "metadata": {
        "colab": {
          "base_uri": "https://localhost:8080/",
          "height": 240
        },
        "id": "Vh-liACIxGCT",
        "outputId": "2694acd3-ded3-4705-d05a-78ed29ac7a74"
      },
      "outputs": [
        {
          "data": {
            "text/plain": [
              "199995                                       work... again \n",
              "199996    @damienfranco its so common for it to crash no...\n",
              "199997            my baby boy is wearing big boy underwear \n",
              "199998               fml! i forgot my phone charger @home! \n",
              "199999    can't believe i have to wait another 6 months ...\n",
              "Name: text, dtype: object"
            ]
          },
          "execution_count": 30,
          "metadata": {},
          "output_type": "execute_result"
        }
      ],
      "source": [
        "data['text'].tail()"
      ]
    },
    {
      "cell_type": "markdown",
      "metadata": {
        "id": "ZjsSVgSmxGCU"
      },
      "source": [
        "#### Cleaning and removing Stop words of english"
      ]
    },
    {
      "cell_type": "code",
      "execution_count": 31,
      "metadata": {
        "id": "F0TBhVERxGCU"
      },
      "outputs": [],
      "source": [
        "stopwords_list = stopwords.words('english')"
      ]
    },
    {
      "cell_type": "code",
      "execution_count": 32,
      "metadata": {
        "colab": {
          "base_uri": "https://localhost:8080/",
          "height": 125
        },
        "id": "uumQc6qrxGCU",
        "outputId": "7858988a-4079-43ef-b86d-9b8c099c7f75"
      },
      "outputs": [
        {
          "data": {
            "text/plain": [
              "\"i, me, my, myself, we, our, ours, ourselves, you, you're, you've, you'll, you'd, your, yours, yourself, yourselves, he, him, his, himself, she, she's, her, hers, herself, it, it's, its, itself, they, them, their, theirs, themselves, what, which, who, whom, this, that, that'll, these, those, am, is, are, was, were, be, been, being, have, has, had, having, do, does, did, doing, a, an, the, and, but, if, or, because, as, until, while, of, at, by, for, with, about, against, between, into, through, during, before, after, above, below, to, from, up, down, in, out, on, off, over, under, again, further, then, once, here, there, when, where, why, how, all, any, both, each, few, more, most, other, some, such, no, nor, not, only, own, same, so, than, too, very, s, t, can, will, just, don, don't, should, should've, now, d, ll, m, o, re, ve, y, ain, aren, aren't, couldn, couldn't, didn, didn't, doesn, doesn't, hadn, hadn't, hasn, hasn't, haven, haven't, isn, isn't, ma, mightn, mightn't, mustn, mustn't, needn, needn't, shan, shan't, shouldn, shouldn't, wasn, wasn't, weren, weren't, won, won't, wouldn, wouldn't\""
            ]
          },
          "execution_count": 32,
          "metadata": {},
          "output_type": "execute_result"
        }
      ],
      "source": [
        "from nltk.corpus import stopwords\n",
        "\", \".join(stopwords.words('english'))"
      ]
    },
    {
      "cell_type": "markdown",
      "metadata": {
        "id": "40i2IeZ4xGCU"
      },
      "source": [
        "#### Cleaning and removing the above stop words list from the tweet text"
      ]
    },
    {
      "cell_type": "code",
      "execution_count": 33,
      "metadata": {
        "colab": {
          "base_uri": "https://localhost:8080/",
          "height": 240
        },
        "id": "vzyZsk9PxGCV",
        "outputId": "c4c6c50e-a3c6-478f-b178-ecd609a128fd"
      },
      "outputs": [
        {
          "data": {
            "text/plain": [
              "799999                love @health4uandpets u guys r best!!\n",
              "800000    im meeting one besties tonight! cant wait!! - ...\n",
              "800001    @darealsunisakim thanks twitter add, sunisa! g...\n",
              "800002    sick really cheap hurts much eat real food plu...\n",
              "800003                      @lovesbrooklyn2 effect everyone\n",
              "Name: text, dtype: object"
            ]
          },
          "execution_count": 33,
          "metadata": {},
          "output_type": "execute_result"
        }
      ],
      "source": [
        "STOPWORDS = set(stopwords.words('english'))\n",
        "def cleaning_stopwords(text):\n",
        "    return \" \".join([word for word in str(text).split() if word not in STOPWORDS])\n",
        "data['text'] = data['text'].apply(cleaning_stopwords)\n",
        "data['text'].head()"
      ]
    },
    {
      "cell_type": "markdown",
      "metadata": {
        "id": "0NFn1qp9xGCV"
      },
      "source": [
        "#### Cleaning and removing punctuations"
      ]
    },
    {
      "cell_type": "code",
      "execution_count": 34,
      "metadata": {
        "id": "W0l-7a5FxGCV"
      },
      "outputs": [],
      "source": [
        "english_punctuations = string.punctuation\n",
        "punctuations_list = english_punctuations\n",
        "def cleaning_punctuations(text):\n",
        "    translator = str.maketrans('', '', punctuations_list)\n",
        "    return text.translate(translator)"
      ]
    },
    {
      "cell_type": "code",
      "execution_count": 35,
      "metadata": {
        "colab": {
          "base_uri": "https://localhost:8080/",
          "height": 240
        },
        "id": "it9Rq5YAxGCW",
        "outputId": "3e9a9fd0-5743-43bf-e610-bf1e74bc6bba"
      },
      "outputs": [
        {
          "data": {
            "text/plain": [
              "199995                                                 work\n",
              "199996    damienfranco common crash find delete process ...\n",
              "199997                   baby boy wearing big boy underwear\n",
              "199998                        fml forgot phone charger home\n",
              "199999    cant believe wait another 6 months phone contr...\n",
              "Name: text, dtype: object"
            ]
          },
          "execution_count": 35,
          "metadata": {},
          "output_type": "execute_result"
        }
      ],
      "source": [
        "data['text']= data['text'].apply(cleaning_punctuations)\n",
        "data['text'].tail()"
      ]
    },
    {
      "cell_type": "markdown",
      "metadata": {
        "id": "0TH6PUh-xGCW"
      },
      "source": [
        "#### Cleaning and removing repeating characters"
      ]
    },
    {
      "cell_type": "code",
      "execution_count": 36,
      "metadata": {
        "id": "Pa7DrbAVxGCX"
      },
      "outputs": [],
      "source": [
        "def cleaning_repeating_char(text):\n",
        "    return re.sub(r'(.)\\1+', r'\\1', text)"
      ]
    },
    {
      "cell_type": "code",
      "execution_count": 37,
      "metadata": {
        "colab": {
          "base_uri": "https://localhost:8080/",
          "height": 240
        },
        "id": "xVXGPfTQxGCX",
        "outputId": "3f946ebe-a1ca-45e8-b7a9-895cd988f213"
      },
      "outputs": [
        {
          "data": {
            "text/plain": [
              "199995                                                 work\n",
              "199996    damienfranco comon crash find delete proces ok...\n",
              "199997                   baby boy wearing big boy underwear\n",
              "199998                        fml forgot phone charger home\n",
              "199999    cant believe wait another 6 months phone contr...\n",
              "Name: text, dtype: object"
            ]
          },
          "execution_count": 37,
          "metadata": {},
          "output_type": "execute_result"
        }
      ],
      "source": [
        "data['text'] = data['text'].apply(cleaning_repeating_char)\n",
        "data['text'].tail()"
      ]
    },
    {
      "cell_type": "markdown",
      "metadata": {
        "id": "oGCK7PnFxGCX"
      },
      "source": [
        "#### Cleaning and removing email"
      ]
    },
    {
      "cell_type": "code",
      "execution_count": 38,
      "metadata": {
        "id": "JxXLBygXxGCY"
      },
      "outputs": [],
      "source": [
        "def cleaning_email(data):\n",
        "    return re.sub('@[^\\s]+', ' ', data)"
      ]
    },
    {
      "cell_type": "code",
      "execution_count": 39,
      "metadata": {
        "colab": {
          "base_uri": "https://localhost:8080/",
          "height": 240
        },
        "id": "pjGBUOfFxGCY",
        "outputId": "5a46ac2b-e30c-4f7a-c253-15eb99431b44"
      },
      "outputs": [
        {
          "data": {
            "text/plain": [
              "199995                                                 work\n",
              "199996    damienfranco comon crash find delete proces ok...\n",
              "199997                   baby boy wearing big boy underwear\n",
              "199998                        fml forgot phone charger home\n",
              "199999    cant believe wait another 6 months phone contr...\n",
              "Name: text, dtype: object"
            ]
          },
          "execution_count": 39,
          "metadata": {},
          "output_type": "execute_result"
        }
      ],
      "source": [
        "data['text']= data['text'].apply(cleaning_email)\n",
        "data['text'].tail()"
      ]
    },
    {
      "cell_type": "markdown",
      "metadata": {
        "id": "rK9nvc5bxGCY"
      },
      "source": [
        "#### Cleaning and removing URL's"
      ]
    },
    {
      "cell_type": "code",
      "execution_count": 40,
      "metadata": {
        "id": "unn0pmAmxGCY"
      },
      "outputs": [],
      "source": [
        "def cleaning_URLs(data):\n",
        "    return re.sub('((www\\.[^\\s]+)|(https?://[^\\s]+))',' ',data)"
      ]
    },
    {
      "cell_type": "code",
      "execution_count": 41,
      "metadata": {
        "colab": {
          "base_uri": "https://localhost:8080/",
          "height": 240
        },
        "id": "LpqQVtELxGCZ",
        "outputId": "7fa4abef-8f21-47a6-a49c-49ba113725cc"
      },
      "outputs": [
        {
          "data": {
            "text/plain": [
              "199995                                                 work\n",
              "199996    damienfranco comon crash find delete proces ok...\n",
              "199997                   baby boy wearing big boy underwear\n",
              "199998                        fml forgot phone charger home\n",
              "199999    cant believe wait another 6 months phone contr...\n",
              "Name: text, dtype: object"
            ]
          },
          "execution_count": 41,
          "metadata": {},
          "output_type": "execute_result"
        }
      ],
      "source": [
        "data['text'] = data['text'].apply(cleaning_URLs)\n",
        "data['text'].tail()"
      ]
    },
    {
      "cell_type": "markdown",
      "metadata": {
        "id": "jWwGHVO2xGCZ"
      },
      "source": [
        "#### Cleaning and removing Numeric numbers"
      ]
    },
    {
      "cell_type": "code",
      "execution_count": 42,
      "metadata": {
        "id": "9XsBTcjjxGCZ"
      },
      "outputs": [],
      "source": [
        "def cleaning_numbers(data):\n",
        "    return re.sub('[0-9]+', '', data)"
      ]
    },
    {
      "cell_type": "code",
      "execution_count": 43,
      "metadata": {
        "colab": {
          "base_uri": "https://localhost:8080/",
          "height": 240
        },
        "id": "8DBFr0vwxGCa",
        "outputId": "57e5518a-c6a8-4b7f-963b-29d36f637fd6"
      },
      "outputs": [
        {
          "data": {
            "text/plain": [
              "199995                                                 work\n",
              "199996    damienfranco comon crash find delete proces ok...\n",
              "199997                   baby boy wearing big boy underwear\n",
              "199998                        fml forgot phone charger home\n",
              "199999    cant believe wait another  months phone contra...\n",
              "Name: text, dtype: object"
            ]
          },
          "execution_count": 43,
          "metadata": {},
          "output_type": "execute_result"
        }
      ],
      "source": [
        "data['text'] = data['text'].apply(cleaning_numbers)\n",
        "data['text'].tail()"
      ]
    },
    {
      "cell_type": "markdown",
      "metadata": {
        "id": "9v89AVHPxGCa"
      },
      "source": [
        "#### Getting tokenization of tweet text"
      ]
    },
    {
      "cell_type": "code",
      "execution_count": 44,
      "metadata": {
        "id": "kWmWLcYhxGCb"
      },
      "outputs": [],
      "source": [
        "tokenizer = RegexpTokenizer(r'\\w+')\n",
        "data['text'] = data['text'].apply(tokenizer.tokenize)"
      ]
    },
    {
      "cell_type": "code",
      "execution_count": 45,
      "metadata": {
        "colab": {
          "base_uri": "https://localhost:8080/",
          "height": 240
        },
        "id": "l7dPReXJxGCb",
        "outputId": "e6dae258-a7c7-4d2b-850f-a79685cc612f"
      },
      "outputs": [
        {
          "data": {
            "text/plain": [
              "799999             [love, healthuandpets, u, guys, r, best]\n",
              "800000    [im, meting, one, besties, tonight, cant, wait...\n",
              "800001    [darealsunisakim, thanks, twiter, ad, sunisa, ...\n",
              "800002    [sick, realy, cheap, hurts, much, eat, real, f...\n",
              "800003                      [lovesbroklyn, efect, everyone]\n",
              "Name: text, dtype: object"
            ]
          },
          "execution_count": 45,
          "metadata": {},
          "output_type": "execute_result"
        }
      ],
      "source": [
        "data['text'].head()"
      ]
    },
    {
      "cell_type": "markdown",
      "metadata": {
        "id": "gDyLKmgyxGCc"
      },
      "source": [
        "#### Applying Stemming"
      ]
    },
    {
      "cell_type": "code",
      "execution_count": 46,
      "metadata": {
        "id": "lBZ6WoGGxGCc"
      },
      "outputs": [],
      "source": [
        "st = PorterStemmer()\n",
        "def stemming_on_text(data):\n",
        "    text = [st.stem(word) for word in data]\n",
        "    return data\n",
        "\n",
        "data['text']= data['text'].apply(stemming_on_text)"
      ]
    },
    {
      "cell_type": "code",
      "execution_count": 47,
      "metadata": {
        "id": "1USIz1eKxGCd"
      },
      "outputs": [
        {
          "data": {
            "text/plain": [
              "799999             [love, healthuandpets, u, guys, r, best]\n",
              "800000    [im, meting, one, besties, tonight, cant, wait...\n",
              "800001    [darealsunisakim, thanks, twiter, ad, sunisa, ...\n",
              "800002    [sick, realy, cheap, hurts, much, eat, real, f...\n",
              "800003                      [lovesbroklyn, efect, everyone]\n",
              "Name: text, dtype: object"
            ]
          },
          "execution_count": 47,
          "metadata": {},
          "output_type": "execute_result"
        }
      ],
      "source": [
        "data['text'].head()"
      ]
    },
    {
      "cell_type": "markdown",
      "metadata": {
        "id": "h8jcOz3sxGCd"
      },
      "source": [
        "#### Applying Lemmatizer"
      ]
    },
    {
      "cell_type": "code",
      "execution_count": 48,
      "metadata": {
        "id": "OgryaZ-rxGCd"
      },
      "outputs": [],
      "source": [
        "lm = nltk.WordNetLemmatizer()\n",
        "def lemmatizer_on_text(data):\n",
        "    text = [lm.lemmatize(word) for word in data]\n",
        "    return text\n",
        "\n",
        "data['text'] = data['text'].apply(lemmatizer_on_text)"
      ]
    },
    {
      "cell_type": "code",
      "execution_count": 49,
      "metadata": {
        "colab": {
          "base_uri": "https://localhost:8080/",
          "height": 240
        },
        "id": "KcR4kF2dYPw1",
        "outputId": "98adecf9-36e0-4404-c724-f40850678ca3"
      },
      "outputs": [
        {
          "data": {
            "text/plain": [
              "799999              [love, healthuandpets, u, guy, r, best]\n",
              "800000    [im, meting, one, besties, tonight, cant, wait...\n",
              "800001    [darealsunisakim, thanks, twiter, ad, sunisa, ...\n",
              "800002    [sick, realy, cheap, hurt, much, eat, real, fo...\n",
              "800003                      [lovesbroklyn, efect, everyone]\n",
              "Name: text, dtype: object"
            ]
          },
          "execution_count": 49,
          "metadata": {},
          "output_type": "execute_result"
        }
      ],
      "source": [
        "data['text'].head()"
      ]
    },
    {
      "cell_type": "markdown",
      "metadata": {
        "id": "UeCSBf8RxGCe"
      },
      "source": [
        "### Labels:\n",
        "labels are the targets like in this project senitments of the tweets are labels."
      ]
    },
    {
      "cell_type": "markdown",
      "metadata": {
        "id": "Px0dTQY_xGCe"
      },
      "source": [
        "### Inputs:\n",
        "Inputs are the data that we feed into machine learning like in this project tweets texts are the inputs."
      ]
    },
    {
      "cell_type": "markdown",
      "metadata": {
        "id": "a5jCAYs4xGCe"
      },
      "source": [
        "### Training Data\n",
        "We use training data when we train the models. We feed train data to machine learning and deep learning models so that model can learn from the data."
      ]
    },
    {
      "cell_type": "markdown",
      "metadata": {
        "id": "3EGH1Fn1xGCf"
      },
      "source": [
        "### Validation Data\n",
        "We use validation data while training the model. We use this data to evalaute the performance that how the model perform on training time."
      ]
    },
    {
      "cell_type": "markdown",
      "metadata": {
        "id": "vuS1lf_UxGCh"
      },
      "source": [
        "### Testing Data\n",
        "We use testing data after training the model. We use this data to evalaute the performance that how the model perform after training. So in this way first we get predictions from the trained model without giving the labels and then we compare the true labels with predictions and get the performance of th model.."
      ]
    },
    {
      "cell_type": "markdown",
      "metadata": {
        "id": "T_GReW6-xGCi"
      },
      "source": [
        "####  Separating input feature and label"
      ]
    },
    {
      "cell_type": "code",
      "execution_count": 50,
      "metadata": {
        "id": "FqLh2QuxxGCi"
      },
      "outputs": [],
      "source": [
        "X=data.text\n",
        "y=data.label"
      ]
    },
    {
      "cell_type": "markdown",
      "metadata": {
        "id": "YZCEx_MkxGCi"
      },
      "source": [
        "#### Preparing the input features for training\n",
        "- We converting the text words into arrays form.\n",
        "- Maximum 500 features/words selected for training. These 500 words will be selected on the importance that will distinguish between the positive tweets and negative tweets."
      ]
    },
    {
      "cell_type": "code",
      "execution_count": 51,
      "metadata": {
        "colab": {
          "base_uri": "https://localhost:8080/"
        },
        "id": "pFzGO48XR66H",
        "outputId": "4689d682-b758-46be-fb87-19ab06c69186"
      },
      "outputs": [
        {
          "data": {
            "text/plain": [
              "['upset',\n",
              " 'cant',\n",
              " 'update',\n",
              " 'facebok',\n",
              " 'texting',\n",
              " 'it',\n",
              " 'might',\n",
              " 'cry',\n",
              " 'result',\n",
              " 'schol',\n",
              " 'today',\n",
              " 'also',\n",
              " 'blah']"
            ]
          },
          "execution_count": 51,
          "metadata": {},
          "output_type": "execute_result"
        }
      ],
      "source": [
        "X[0]"
      ]
    },
    {
      "cell_type": "code",
      "execution_count": 52,
      "metadata": {
        "colab": {
          "base_uri": "https://localhost:8080/"
        },
        "id": "plIFObh4jYJV",
        "outputId": "959a3040-5971-43c6-8ce3-cf73d48f2c17"
      },
      "outputs": [
        {
          "name": "stdout",
          "output_type": "stream",
          "text": [
            "257166\n"
          ]
        }
      ],
      "source": [
        "max_len = 25\n",
        "tok = Tokenizer()\n",
        "tok.fit_on_texts(X)\n",
        "print(len(tok.word_index))\n",
        "sequences = tok.texts_to_sequences(X)"
      ]
    },
    {
      "cell_type": "code",
      "execution_count": 53,
      "metadata": {
        "colab": {
          "base_uri": "https://localhost:8080/"
        },
        "id": "5sRp9K2hdRcX",
        "outputId": "ef361cd4-0871-429a-c66c-048e335cc61d"
      },
      "outputs": [
        {
          "name": "stdout",
          "output_type": "stream",
          "text": [
            "Help on Tokenizer in module keras.preprocessing.text object:\n",
            "\n",
            "class Tokenizer(builtins.object)\n",
            " |  Tokenizer(num_words=None, filters='!\"#$%&()*+,-./:;<=>?@[\\\\]^_`{|}~\\t\\n', lower=True, split=' ', char_level=False, oov_token=None, analyzer=None, **kwargs)\n",
            " |  \n",
            " |  Text tokenization utility class.\n",
            " |  \n",
            " |  Deprecated: `tf.keras.preprocessing.text.Tokenizer` does not operate on\n",
            " |  tensors and is not recommended for new code. Prefer\n",
            " |  `tf.keras.layers.TextVectorization` which provides equivalent functionality\n",
            " |  through a layer which accepts `tf.Tensor` input. See the\n",
            " |  [text loading tutorial](https://www.tensorflow.org/tutorials/load_data/text)\n",
            " |  for an overview of the layer and text handling in tensorflow.\n",
            " |  \n",
            " |  This class allows to vectorize a text corpus, by turning each\n",
            " |  text into either a sequence of integers (each integer being the index\n",
            " |  of a token in a dictionary) or into a vector where the coefficient\n",
            " |  for each token could be binary, based on word count, based on tf-idf...\n",
            " |  \n",
            " |  By default, all punctuation is removed, turning the texts into\n",
            " |  space-separated sequences of words\n",
            " |  (words maybe include the `'` character). These sequences are then\n",
            " |  split into lists of tokens. They will then be indexed or vectorized.\n",
            " |  \n",
            " |  `0` is a reserved index that won't be assigned to any word.\n",
            " |  \n",
            " |  Args:\n",
            " |      num_words: the maximum number of words to keep, based\n",
            " |          on word frequency. Only the most common `num_words-1` words will\n",
            " |          be kept.\n",
            " |      filters: a string where each element is a character that will be\n",
            " |          filtered from the texts. The default is all punctuation, plus\n",
            " |          tabs and line breaks, minus the `'` character.\n",
            " |      lower: boolean. Whether to convert the texts to lowercase.\n",
            " |      split: str. Separator for word splitting.\n",
            " |      char_level: if True, every character will be treated as a token.\n",
            " |      oov_token: if given, it will be added to word_index and used to\n",
            " |          replace out-of-vocabulary words during text_to_sequence calls\n",
            " |      analyzer: function. Custom analyzer to split the text.\n",
            " |          The default analyzer is text_to_word_sequence\n",
            " |  \n",
            " |  Methods defined here:\n",
            " |  \n",
            " |  __init__(self, num_words=None, filters='!\"#$%&()*+,-./:;<=>?@[\\\\]^_`{|}~\\t\\n', lower=True, split=' ', char_level=False, oov_token=None, analyzer=None, **kwargs)\n",
            " |      Initialize self.  See help(type(self)) for accurate signature.\n",
            " |  \n",
            " |  fit_on_sequences(self, sequences)\n",
            " |      Updates internal vocabulary based on a list of sequences.\n",
            " |      \n",
            " |      Required before using `sequences_to_matrix`\n",
            " |      (if `fit_on_texts` was never called).\n",
            " |      \n",
            " |      Args:\n",
            " |          sequences: A list of sequence.\n",
            " |              A \"sequence\" is a list of integer word indices.\n",
            " |  \n",
            " |  fit_on_texts(self, texts)\n",
            " |      Updates internal vocabulary based on a list of texts.\n",
            " |      \n",
            " |      In the case where texts contains lists,\n",
            " |      we assume each entry of the lists to be a token.\n",
            " |      \n",
            " |      Required before using `texts_to_sequences` or `texts_to_matrix`.\n",
            " |      \n",
            " |      Args:\n",
            " |          texts: can be a list of strings,\n",
            " |              a generator of strings (for memory-efficiency),\n",
            " |              or a list of list of strings.\n",
            " |  \n",
            " |  get_config(self)\n",
            " |      Returns the tokenizer configuration as Python dictionary.\n",
            " |      \n",
            " |      The word count dictionaries used by the tokenizer get serialized\n",
            " |      into plain JSON, so that the configuration can be read by other\n",
            " |      projects.\n",
            " |      \n",
            " |      Returns:\n",
            " |          A Python dictionary with the tokenizer configuration.\n",
            " |  \n",
            " |  sequences_to_matrix(self, sequences, mode='binary')\n",
            " |      Converts a list of sequences into a Numpy matrix.\n",
            " |      \n",
            " |      Args:\n",
            " |          sequences: list of sequences\n",
            " |              (a sequence is a list of integer word indices).\n",
            " |          mode: one of \"binary\", \"count\", \"tfidf\", \"freq\"\n",
            " |      \n",
            " |      Returns:\n",
            " |          A Numpy matrix.\n",
            " |      \n",
            " |      Raises:\n",
            " |          ValueError: In case of invalid `mode` argument,\n",
            " |              or if the Tokenizer requires to be fit to sample data.\n",
            " |  \n",
            " |  sequences_to_texts(self, sequences)\n",
            " |      Transforms each sequence into a list of text.\n",
            " |      \n",
            " |      Only top `num_words-1` most frequent words will be taken into account.\n",
            " |      Only words known by the tokenizer will be taken into account.\n",
            " |      \n",
            " |      Args:\n",
            " |          sequences: A list of sequences (list of integers).\n",
            " |      \n",
            " |      Returns:\n",
            " |          A list of texts (strings)\n",
            " |  \n",
            " |  sequences_to_texts_generator(self, sequences)\n",
            " |      Transforms each sequence in `sequences` to a list of texts(strings).\n",
            " |      \n",
            " |      Each sequence has to a list of integers.\n",
            " |      In other words, sequences should be a list of sequences\n",
            " |      \n",
            " |      Only top `num_words-1` most frequent words will be taken into account.\n",
            " |      Only words known by the tokenizer will be taken into account.\n",
            " |      \n",
            " |      Args:\n",
            " |          sequences: A list of sequences.\n",
            " |      \n",
            " |      Yields:\n",
            " |          Yields individual texts.\n",
            " |  \n",
            " |  texts_to_matrix(self, texts, mode='binary')\n",
            " |      Convert a list of texts to a Numpy matrix.\n",
            " |      \n",
            " |      Args:\n",
            " |          texts: list of strings.\n",
            " |          mode: one of \"binary\", \"count\", \"tfidf\", \"freq\".\n",
            " |      \n",
            " |      Returns:\n",
            " |          A Numpy matrix.\n",
            " |  \n",
            " |  texts_to_sequences(self, texts)\n",
            " |      Transforms each text in texts to a sequence of integers.\n",
            " |      \n",
            " |      Only top `num_words-1` most frequent words will be taken into account.\n",
            " |      Only words known by the tokenizer will be taken into account.\n",
            " |      \n",
            " |      Args:\n",
            " |          texts: A list of texts (strings).\n",
            " |      \n",
            " |      Returns:\n",
            " |          A list of sequences.\n",
            " |  \n",
            " |  texts_to_sequences_generator(self, texts)\n",
            " |      Transforms each text in `texts` to a sequence of integers.\n",
            " |      \n",
            " |      Each item in texts can also be a list,\n",
            " |      in which case we assume each item of that list to be a token.\n",
            " |      \n",
            " |      Only top `num_words-1` most frequent words will be taken into account.\n",
            " |      Only words known by the tokenizer will be taken into account.\n",
            " |      \n",
            " |      Args:\n",
            " |          texts: A list of texts (strings).\n",
            " |      \n",
            " |      Yields:\n",
            " |          Yields individual sequences.\n",
            " |  \n",
            " |  to_json(self, **kwargs)\n",
            " |      Returns a JSON string containing the tokenizer configuration.\n",
            " |      \n",
            " |      To load a tokenizer from a JSON string, use\n",
            " |      `keras.preprocessing.text.tokenizer_from_json(json_string)`.\n",
            " |      \n",
            " |      Args:\n",
            " |          **kwargs: Additional keyword arguments\n",
            " |              to be passed to `json.dumps()`.\n",
            " |      \n",
            " |      Returns:\n",
            " |          A JSON string containing the tokenizer configuration.\n",
            " |  \n",
            " |  ----------------------------------------------------------------------\n",
            " |  Data descriptors defined here:\n",
            " |  \n",
            " |  __dict__\n",
            " |      dictionary for instance variables (if defined)\n",
            " |  \n",
            " |  __weakref__\n",
            " |      list of weak references to the object (if defined)\n",
            "\n"
          ]
        }
      ],
      "source": [
        "help(Tokenizer())"
      ]
    },
    {
      "cell_type": "code",
      "execution_count": 54,
      "metadata": {
        "colab": {
          "base_uri": "https://localhost:8080/"
        },
        "id": "NsiB0f6kRuAj",
        "outputId": "112bee06-1390-47c2-d955-4f893866b66e"
      },
      "outputs": [
        {
          "data": {
            "text/plain": [
              "6"
            ]
          },
          "execution_count": 54,
          "metadata": {},
          "output_type": "execute_result"
        }
      ],
      "source": [
        "len(sequences[0])"
      ]
    },
    {
      "cell_type": "code",
      "execution_count": 55,
      "metadata": {
        "colab": {
          "base_uri": "https://localhost:8080/"
        },
        "id": "zwX5M9E0RQoK",
        "outputId": "3d8c18e9-c7df-4635-a8dc-b1dcdb3ccb3b"
      },
      "outputs": [
        {
          "data": {
            "text/plain": [
              "400000"
            ]
          },
          "execution_count": 55,
          "metadata": {},
          "output_type": "execute_result"
        }
      ],
      "source": [
        "len(sequences)"
      ]
    },
    {
      "cell_type": "code",
      "execution_count": 56,
      "metadata": {
        "colab": {
          "base_uri": "https://localhost:8080/",
          "height": 448
        },
        "id": "6gy8j8ilBVB-",
        "outputId": "bc2f6885-b99d-485d-c666-e8d65c8db142"
      },
      "outputs": [
        {
          "name": "stdout",
          "output_type": "stream",
          "text": [
            "400000\n"
          ]
        },
        {
          "data": {
            "image/png": "[encoded data removed]",
            "text/plain": [
              "<Figure size 640x480 with 1 Axes>"
            ]
          },
          "metadata": {},
          "output_type": "display_data"
        }
      ],
      "source": [
        "sequence_lengths = [len(seq) for seq in sequences]\n",
        "print(len(sequence_lengths))\n",
        "plt.hist(sequence_lengths)\n",
        "plt.show()"
      ]
    },
    {
      "cell_type": "code",
      "execution_count": 57,
      "metadata": {
        "id": "OlejLYZPBS6x"
      },
      "outputs": [],
      "source": [
        "sequences_matrix = sequence.pad_sequences(sequences,maxlen=max_len)"
      ]
    },
    {
      "cell_type": "markdown",
      "metadata": {
        "id": "czwyCYJHxGCj"
      },
      "source": [
        "As we can see that there total 200000 tweets and the number words/features are 25."
      ]
    },
    {
      "cell_type": "code",
      "execution_count": 58,
      "metadata": {
        "colab": {
          "base_uri": "https://localhost:8080/"
        },
        "id": "JCVIsFz5uoR9",
        "outputId": "a182518f-3092-4f49-9735-fdae0814aa8e"
      },
      "outputs": [
        {
          "data": {
            "text/plain": [
              "array([0, 0, 0, 0, 0])"
            ]
          },
          "execution_count": 58,
          "metadata": {},
          "output_type": "execute_result"
        }
      ],
      "source": [
        "sequences_matrix[0][:5]"
      ]
    },
    {
      "cell_type": "code",
      "execution_count": 59,
      "metadata": {
        "colab": {
          "base_uri": "https://localhost:8080/"
        },
        "id": "TO-XcVm6xGCj",
        "outputId": "4bb0470d-34dd-4cae-8141-d6df2aded1f0"
      },
      "outputs": [
        {
          "name": "stdout",
          "output_type": "stream",
          "text": [
            "(400000, 25)\n"
          ]
        }
      ],
      "source": [
        "print(sequences_matrix.shape)"
      ]
    },
    {
      "cell_type": "markdown",
      "metadata": {
        "id": "MTlPTz_kxGCk"
      },
      "source": [
        "#### Separating the 80% data for training data, 10% for validation data, and 10% for testing data"
      ]
    },
    {
      "cell_type": "markdown",
      "metadata": {
        "id": "HfnNGjjNxGCk"
      },
      "source": [
        "As we prepared all the tweets, now we are separating/splitting the tweets into training data and testing data.\n",
        "- 80% tweets will be used in the training\n",
        "- 10% tweets will be used in the validating.\n",
        "- 10% tweets will be used to test the performance of the model."
      ]
    },
    {
      "cell_type": "code",
      "execution_count": 60,
      "metadata": {
        "id": "oOlkTTg4oRqR"
      },
      "outputs": [],
      "source": [
        "X_train, X_test, Y_train, Y_test = train_test_split(sequences_matrix, y, test_size=0.2, random_state=42,stratify=y)\n",
        "X_test,X_val,Y_test,Y_val = train_test_split(X_test,Y_test,test_size=0.5, random_state=42,stratify=Y_test)"
      ]
    },
    {
      "cell_type": "markdown",
      "metadata": {
        "id": "QTdK4Cp8xGCl"
      },
      "source": [
        "## Implementing Tensorflow based model for training"
      ]
    },
    {
      "cell_type": "markdown",
      "metadata": {
        "id": "OqciF5aXxGCl"
      },
      "source": [
        "# Model compilation"
      ]
    },
    {
      "cell_type": "markdown",
      "metadata": {
        "id": "oaNXHAOxxGCl"
      },
      "source": [
        "- First we are calling the model\n",
        "- We are using 2 classes so we set \"binary_crossentropy\" and if we use more than two classes then we use \"categorical_crossentropy\"\n",
        "- Optimizer is a function that used to change the features of neural network such as learning rate (how the model learn with features) in order to reduce the losses. So the learning rate of neural network to reduce the losses is defined by optimizer.\n",
        "- We are setting metrics=accuracy because we are going to calculate the percentage of correct predictions over all predictions on the validation set"
      ]
    },
    {
      "cell_type": "markdown",
      "metadata": {
        "id": "RGZvc706liPg"
      },
      "source": [
        "# MLP"
      ]
    },
    {
      "cell_type": "code",
      "execution_count": 61,
      "metadata": {
        "id": "-V8dtsKXFM1r"
      },
      "outputs": [],
      "source": [
        "def mlp_based_model():\n",
        "    inputs = Input(name='inputs', shape=[max_len])                # Step 1: Input layer, max_len is the length of the input sequence\n",
        "    layer = Embedding(input_dim=len(tok.word_index)+1, output_dim=200, input_length=max_len)(inputs) # Step 2: Embedding layer (to convert tokens into dense vectors)\n",
        "    layer = GlobalAveragePooling1D()(layer)                       # Step 3: Global average pooling layer to reduce the embedding to a single vector\n",
        "    layer = Dense(128, kernel_regularizer=tf.keras.regularizers.l2(0.1))(layer) # Step 4: First Dense layer with 128 neurons and L2 regularization\n",
        "    layer = Activation('relu')(layer)                             # Step 5: Activation with ReLU\n",
        "    layer = Dropout(0.5)(layer)                                   # Step 6: Dropout for regularization\n",
        "    layer = Dense(64)(layer)                                      # Step 7: Second Dense layer with 64 neurons (additional complexity)\n",
        "    layer = Activation('relu')(layer)                             # Step 8: Activation with ReLU again\n",
        "    layer = Dropout(0.5)(layer)                                   # Step 9: Dropout for regularization\n",
        "    layer = Dense(1, name='out_layer')(layer)                     # Step 10: Output layer with a single neuron for binary classification\n",
        "    layer = Activation('sigmoid')(layer)                          # Step 11: Sigmoid activation for the final classification (positive or negative)\n",
        "    model = Model(inputs=inputs, outputs=layer)                   # Step 12: Create and return the final model\n",
        "    return model\n"
      ]
    },
    {
      "cell_type": "code",
      "execution_count": 62,
      "metadata": {
        "colab": {
          "base_uri": "https://localhost:8080/",
          "height": 492
        },
        "id": "mFQcJJyKxGCm",
        "outputId": "a049e8ce-e8d0-4a59-ad15-f9e7f862f4e7"
      },
      "outputs": [
        {
          "name": "stdout",
          "output_type": "stream",
          "text": [
            "Model: \"model\"\n",
            "_________________________________________________________________\n",
            " Layer (type)                Output Shape              Param #   \n",
            "=================================================================\n",
            " inputs (InputLayer)         [(None, 25)]              0         \n",
            "                                                                 \n",
            " embedding (Embedding)       (None, 25, 200)           51433400  \n",
            "                                                                 \n",
            " global_average_pooling1d (G  (None, 200)              0         \n",
            " lobalAveragePooling1D)                                          \n",
            "                                                                 \n",
            " dense (Dense)               (None, 128)               25728     \n",
            "                                                                 \n",
            " activation (Activation)     (None, 128)               0         \n",
            "                                                                 \n",
            " dropout (Dropout)           (None, 128)               0         \n",
            "                                                                 \n",
            " dense_1 (Dense)             (None, 64)                8256      \n",
            "                                                                 \n",
            " activation_1 (Activation)   (None, 64)                0         \n",
            "                                                                 \n",
            " dropout_1 (Dropout)         (None, 64)                0         \n",
            "                                                                 \n",
            " out_layer (Dense)           (None, 1)                 65        \n",
            "                                                                 \n",
            " activation_2 (Activation)   (None, 1)                 0         \n",
            "                                                                 \n",
            "=================================================================\n",
            "Total params: 51,467,449\n",
            "Trainable params: 51,467,449\n",
            "Non-trainable params: 0\n",
            "_________________________________________________________________\n"
          ]
        }
      ],
      "source": [
        "adam = tf.keras.optimizers.Adam(learning_rate=0.0001)\n",
        "model = mlp_based_model() # here we are calling the function of created model\n",
        "model.compile(loss='binary_crossentropy',optimizer=adam,metrics=['accuracy'])\n",
        "model.summary()"
      ]
    },
    {
      "cell_type": "markdown",
      "metadata": {
        "id": "WWHdoQ5OxGCm"
      },
      "source": [
        "#### Training and validating with parameter tuning\n",
        "- We are feeding the training data and getting 10% data for validation from training data\n",
        "* We set the following parameters:\n",
        "- Batch size = 100 so the model take 100 tweets in each iteration and train them. Batch size is a term used in machine learning and refers to the number of training examples utilized in one iteration.\n",
        "- Epochs = 10 so the model will train on the data 10 times. Epoch is a term used in machine learning and indicates the number of passes of the entire training dataset the machine learning algorithm has completed.\n",
        "- We can choose batch_size, and epochs as we want so the good practice is to set some values and train the model if the model will not give the good results we can change it and then try again for the training of the model. We can repeat this process many time untill we will not get the good results and this process called as parameter tuning.\n"
      ]
    },
    {
      "cell_type": "code",
      "execution_count": 63,
      "metadata": {
        "colab": {
          "base_uri": "https://localhost:8080/"
        },
        "id": "TGGT-_U1xGCn",
        "outputId": "6409373f-9ec1-4d60-a22d-bfc34fae56ec"
      },
      "outputs": [
        {
          "name": "stdout",
          "output_type": "stream",
          "text": [
            "Epoch 1/10\n",
            "3200/3200 [==============================] - 117s 36ms/step - loss: 2.6520 - accuracy: 0.6458 - val_loss: 0.5565 - val_accuracy: 0.7513\n",
            "Epoch 2/10\n",
            "3200/3200 [==============================] - 110s 34ms/step - loss: 0.5290 - accuracy: 0.7613 - val_loss: 0.5153 - val_accuracy: 0.7648\n",
            "Epoch 3/10\n",
            "3200/3200 [==============================] - 106s 33ms/step - loss: 0.4900 - accuracy: 0.7851 - val_loss: 0.5042 - val_accuracy: 0.7665\n",
            "Epoch 4/10\n",
            "3200/3200 [==============================] - 113s 35ms/step - loss: 0.4648 - accuracy: 0.8001 - val_loss: 0.4980 - val_accuracy: 0.7714\n",
            "Epoch 5/10\n",
            "3200/3200 [==============================] - 114s 36ms/step - loss: 0.4419 - accuracy: 0.8150 - val_loss: 0.5075 - val_accuracy: 0.7666\n",
            "Epoch 6/10\n",
            "3200/3200 [==============================] - 113s 35ms/step - loss: 0.4197 - accuracy: 0.8292 - val_loss: 0.5057 - val_accuracy: 0.7709\n",
            "Epoch 7/10\n",
            "3200/3200 [==============================] - ETA: 0s - loss: 0.3964 - accuracy: 0.8421Restoring model weights from the end of the best epoch: 4.\n",
            "3200/3200 [==============================] - 113s 35ms/step - loss: 0.3964 - accuracy: 0.8421 - val_loss: 0.5115 - val_accuracy: 0.7697\n",
            "Epoch 7: early stopping\n",
            "Training finished!\n"
          ]
        }
      ],
      "source": [
        "early_stopping = tf.keras.callbacks.EarlyStopping(monitor='val_loss',patience=3,restore_best_weights=True, verbose=1) # here we are using early stopping to stop the training of model if the validation loss is not decreasing  \n",
        "history=model.fit(X_train,Y_train,batch_size=100,epochs=10, validation_data=(X_val,Y_val),callbacks=[early_stopping]) # compiling the model with loss as binary_crossentropy and optimizer as adam\n",
        "print('Training finished!')"
      ]
    },
    {
      "cell_type": "code",
      "execution_count": 64,
      "metadata": {
        "id": "FVyj1W77ir3D"
      },
      "outputs": [
        {
          "data": {
            "image/png": "[encoded data removed]",
            "text/plain": [
              "<Figure size 640x480 with 1 Axes>"
            ]
          },
          "metadata": {},
          "output_type": "display_data"
        },
        {
          "data": {
            "image/png": "[encoded data removed]",
            "text/plain": [
              "<Figure size 640x480 with 1 Axes>"
            ]
          },
          "metadata": {},
          "output_type": "display_data"
        }
      ],
      "source": [
        "acc = history.history['accuracy']\n",
        "val_acc = history.history['val_accuracy']\n",
        "loss = history.history['loss']\n",
        "val_loss = history.history['val_loss']\n",
        "\n",
        "epochs = range(len(acc))\n",
        "\n",
        "plt.plot(epochs, acc, 'b', label='Training acc')\n",
        "plt.plot(epochs, val_acc, 'r', label='Validation acc')\n",
        "plt.title('Training and validation accuracy')\n",
        "plt.legend()\n",
        "\n",
        "plt.figure()\n",
        "\n",
        "plt.plot(epochs, loss, 'b', label='Training loss')\n",
        "plt.plot(epochs, val_loss, 'r', label='Validation loss')\n",
        "plt.title('Training and validation loss')\n",
        "plt.legend()\n",
        "\n",
        "plt.show()"
      ]
    },
    {
      "cell_type": "markdown",
      "metadata": {
        "id": "AUG_BUHnxGCn"
      },
      "source": [
        "<h1> We need to do all the above configurations to train the model. If we will not set all settings correctly then we could not get the desired results.</h1>"
      ]
    },
    {
      "cell_type": "markdown",
      "metadata": {
        "id": "aQ72A5F4U0wr"
      },
      "source": [
        "#### Testing the Trained model on test data\n",
        "- Getting predictions/classifying the sentiments (positve/negative) on the test data using trained model."
      ]
    },
    {
      "cell_type": "code",
      "execution_count": 65,
      "metadata": {
        "id": "LlxD3pU9U0ws"
      },
      "outputs": [
        {
          "name": "stdout",
          "output_type": "stream",
          "text": [
            "1250/1250 [==============================] - 8s 6ms/step - loss: 0.4932 - accuracy: 0.7771\n"
          ]
        }
      ],
      "source": [
        "accr1 = model.evaluate(X_test,Y_test) # we are starting to test the model here"
      ]
    },
    {
      "cell_type": "markdown",
      "metadata": {
        "id": "h5ZOTOh14WKO"
      },
      "source": [
        "#### Accuracy"
      ]
    },
    {
      "cell_type": "code",
      "execution_count": 66,
      "metadata": {
        "id": "E2bQq4jaU0wt"
      },
      "outputs": [
        {
          "name": "stdout",
          "output_type": "stream",
          "text": [
            "Test set\n",
            "  Accuracy: 0.78\n"
          ]
        }
      ],
      "source": [
        "print('Test set\\n  Accuracy: {:0.2f}'.format(accr1[1])) # the accuracy of the model on test data is given below"
      ]
    },
    {
      "cell_type": "markdown",
      "metadata": {
        "id": "yYzF6e5kxGCo"
      },
      "source": [
        "#### Getting prediction of the test data and then we will compare the true labels/classes of the data with predictions\n",
        "- As the model give probabilties so we are setting a threshold 0.5. More than 0.5 will be the positive tweets and lower will be negative tweets"
      ]
    },
    {
      "cell_type": "code",
      "execution_count": 67,
      "metadata": {
        "id": "A6D6Ah8IxGCt"
      },
      "outputs": [
        {
          "name": "stdout",
          "output_type": "stream",
          "text": [
            "1250/1250 [==============================] - 4s 3ms/step\n",
            "[[0.5866866 ]\n",
            " [0.70294535]\n",
            " [0.6843201 ]\n",
            " ...\n",
            " [0.14948241]\n",
            " [0.11435294]\n",
            " [0.32431364]]\n"
          ]
        }
      ],
      "source": [
        "y_pred = model.predict(X_test) #getting predictions on the trained model\n",
        "print(y_pred)\n",
        "y_pred = (y_pred > 0.5)"
      ]
    },
    {
      "cell_type": "markdown",
      "metadata": {
        "id": "40MjbuBA7Og9"
      },
      "source": [
        "#### Confusion matrix"
      ]
    },
    {
      "cell_type": "code",
      "execution_count": 68,
      "metadata": {
        "id": "WERD7KXs8YmQ"
      },
      "outputs": [
        {
          "name": "stdout",
          "output_type": "stream",
          "text": [
            "\n",
            "\n",
            "confusion matrix\n",
            "\n",
            "\n",
            "[[15492  4508]\n",
            " [ 4406 15594]]\n",
            "\n",
            "\n"
          ]
        },
        {
          "data": {
            "image/png": "[encoded data removed]",
            "text/plain": [
              "<Figure size 640x480 with 2 Axes>"
            ]
          },
          "metadata": {},
          "output_type": "display_data"
        }
      ],
      "source": [
        "print('\\n')\n",
        "print(\"confusion matrix\")\n",
        "print('\\n')\n",
        "CR=confusion_matrix(Y_test, y_pred)\n",
        "print(CR)\n",
        "print('\\n')\n",
        "\n",
        "sns.heatmap(CR,annot=True,fmt=\"g\",cmap=\"Blues\")\n",
        "plt.title('Confusion Matrix')\n",
        "plt.xlabel('Predicted')\n",
        "plt.ylabel('Actual')\n",
        "plt.show()"
      ]
    },
    {
      "cell_type": "markdown",
      "metadata": {},
      "source": [
        "#### Classification Report"
      ]
    },
    {
      "cell_type": "code",
      "execution_count": 69,
      "metadata": {},
      "outputs": [
        {
          "name": "stdout",
          "output_type": "stream",
          "text": [
            "              precision    recall  f1-score   support\n",
            "\n",
            "           0       0.78      0.77      0.78     20000\n",
            "           1       0.78      0.78      0.78     20000\n",
            "\n",
            "    accuracy                           0.78     40000\n",
            "   macro avg       0.78      0.78      0.78     40000\n",
            "weighted avg       0.78      0.78      0.78     40000\n",
            "\n"
          ]
        }
      ],
      "source": [
        "cr = classification_report(Y_test, y_pred)\n",
        "print(cr)"
      ]
    },
    {
      "cell_type": "markdown",
      "metadata": {
        "id": "wlWpCx_OXEIq"
      },
      "source": [
        "#### ROC CURVE\n",
        "- ROC curve show the performance of the model as well.\n",
        "- We can see that the model started from the 0 percent predictions and then moved to true positive predictions that are correct\n",
        "- ROC curve (receiver operating characteristic curve) show the performance of a classification model at all the classification thresholds. ROC plots two parameters, True Positive Rate (correct predictions/classifications) False Positive Rate (wrong predictions/classifications)"
      ]
    },
    {
      "cell_type": "code",
      "execution_count": 70,
      "metadata": {
        "id": "uypTDMUZXEIq",
        "scrolled": true
      },
      "outputs": [
        {
          "data": {
            "image/png": "[encoded data removed]",
            "text/plain": [
              "<Figure size 640x480 with 1 Axes>"
            ]
          },
          "metadata": {},
          "output_type": "display_data"
        }
      ],
      "source": [
        "fpr, tpr, thresholds = roc_curve(Y_test, y_pred)\n",
        "roc_auc = auc(fpr, tpr)\n",
        "plt.figure()\n",
        "plt.plot(fpr, tpr, color='darkorange', lw=1, label='ROC curve (area = %0.2f)' % roc_auc)\n",
        "plt.xlim([0.0, 1.0])\n",
        "plt.ylim([0.0, 1.05])\n",
        "plt.xlabel('False Positive Rate')\n",
        "plt.ylabel('True Positive Rate')\n",
        "plt.title('ROC CURVE')\n",
        "plt.legend(loc=\"lower right\")\n",
        "plt.show()"
      ]
    },
    {
      "cell_type": "markdown",
      "metadata": {
        "id": "IshFnHkulZgy"
      },
      "source": [
        "# LSTM"
      ]
    },
    {
      "cell_type": "code",
      "execution_count": 71,
      "metadata": {
        "id": "v0oYGqH53Utz"
      },
      "outputs": [],
      "source": [
        "def lstm_based_model(): # Defined tensorflow_based_model function for training tenforflow based model\n",
        "  inputs = Input(name='inputs',shape=[max_len]) # Input layer with input shape as max_len, representing the sequence length of input data\n",
        "  layer = Embedding(input_dim = len(tok.word_index)+1,output_dim=200,input_length=max_len)(inputs) # Embedding layer that converts input tokens into dense vectors of dimension 200\n",
        "  layer = LSTM(64)(layer) # LSTM layer with 64 memory units to process sequential data\n",
        "  # layer = Dense(128, kernel_regularizer = tf.keras.regularizers.l2(0.1))(layer) # First Dense layer with 128 neurons and L2 regularization\n",
        "  # layer = Activation('relu')(layer) # ReLU activation function\n",
        "  layer = Dropout(0.5)(layer) # Dropout layer with 50% dropout rate to prevent overfitting\n",
        "  layer = Dense(1)(layer) # giving only one output as because we need to classify the tweet as positive or negative\n",
        "  layer = Activation('sigmoid')(layer) # activation function is sigmoid for only one output.\n",
        "  model = Model(inputs=inputs,outputs=layer) # here we are getting the final output value in the model for classification\n",
        "  return model # function returning the value when we call it"
      ]
    },
    {
      "cell_type": "code",
      "execution_count": 72,
      "metadata": {
        "id": "rbiuc5-Tn475"
      },
      "outputs": [
        {
          "name": "stdout",
          "output_type": "stream",
          "text": [
            "Model: \"model_1\"\n",
            "_________________________________________________________________\n",
            " Layer (type)                Output Shape              Param #   \n",
            "=================================================================\n",
            " inputs (InputLayer)         [(None, 25)]              0         \n",
            "                                                                 \n",
            " embedding_1 (Embedding)     (None, 25, 200)           51433400  \n",
            "                                                                 \n",
            " lstm (LSTM)                 (None, 64)                67840     \n",
            "                                                                 \n",
            " dropout_2 (Dropout)         (None, 64)                0         \n",
            "                                                                 \n",
            " dense_2 (Dense)             (None, 1)                 65        \n",
            "                                                                 \n",
            " activation_3 (Activation)   (None, 1)                 0         \n",
            "                                                                 \n",
            "=================================================================\n",
            "Total params: 51,501,305\n",
            "Trainable params: 51,501,305\n",
            "Non-trainable params: 0\n",
            "_________________________________________________________________\n"
          ]
        }
      ],
      "source": [
        "adam = tf.keras.optimizers.Adam(learning_rate=0.0001)\n",
        "model = lstm_based_model() # here we are calling the function of created model\n",
        "model.compile(loss='binary_crossentropy',optimizer=adam,metrics=['accuracy'])\n",
        "model.summary()"
      ]
    },
    {
      "cell_type": "markdown",
      "metadata": {},
      "source": [
        "#### Training and validating"
      ]
    },
    {
      "cell_type": "code",
      "execution_count": 73,
      "metadata": {
        "id": "Il278zfhn475"
      },
      "outputs": [
        {
          "name": "stdout",
          "output_type": "stream",
          "text": [
            "Epoch 1/10\n",
            "3200/3200 [==============================] - 132s 40ms/step - loss: 0.5252 - accuracy: 0.7420 - val_loss: 0.4754 - val_accuracy: 0.7702\n",
            "Epoch 2/10\n",
            "3200/3200 [==============================] - 128s 40ms/step - loss: 0.4316 - accuracy: 0.8026 - val_loss: 0.4725 - val_accuracy: 0.7715\n",
            "Epoch 3/10\n",
            "3200/3200 [==============================] - 118s 37ms/step - loss: 0.3697 - accuracy: 0.8390 - val_loss: 0.4974 - val_accuracy: 0.7656\n",
            "Epoch 4/10\n",
            "3200/3200 [==============================] - 124s 39ms/step - loss: 0.3054 - accuracy: 0.8723 - val_loss: 0.5452 - val_accuracy: 0.7579\n",
            "Epoch 5/10\n",
            "3200/3200 [==============================] - ETA: 0s - loss: 0.2630 - accuracy: 0.8908Restoring model weights from the end of the best epoch: 2.\n",
            "3200/3200 [==============================] - 129s 40ms/step - loss: 0.2630 - accuracy: 0.8908 - val_loss: 0.5708 - val_accuracy: 0.7477\n",
            "Epoch 5: early stopping\n",
            "Training finished!\n"
          ]
        }
      ],
      "source": [
        "early_stopping = tf.keras.callbacks.EarlyStopping(monitor='val_loss',patience=3,restore_best_weights=True,verbose=1) # here we are using early stopping to stop the training of model if the validation loss is not decreasing  \n",
        "history=model.fit(X_train,Y_train,batch_size=100,epochs=10, validation_data=(X_val,Y_val),callbacks=[early_stopping]) \n",
        "print('Training finished!')"
      ]
    },
    {
      "cell_type": "code",
      "execution_count": 74,
      "metadata": {
        "id": "glzG9bQLn475"
      },
      "outputs": [
        {
          "data": {
            "image/png": "[encoded data removed]",
            "text/plain": [
              "<Figure size 640x480 with 1 Axes>"
            ]
          },
          "metadata": {},
          "output_type": "display_data"
        },
        {
          "data": {
            "image/png": "[encoded data removed]",
            "text/plain": [
              "<Figure size 640x480 with 1 Axes>"
            ]
          },
          "metadata": {},
          "output_type": "display_data"
        }
      ],
      "source": [
        "acc = history.history['accuracy']\n",
        "val_acc = history.history['val_accuracy']\n",
        "loss = history.history['loss']\n",
        "val_loss = history.history['val_loss']\n",
        "\n",
        "epochs = range(len(acc))\n",
        "\n",
        "plt.plot(epochs, acc, 'b', label='Training acc')\n",
        "plt.plot(epochs, val_acc, 'r', label='Validation acc')\n",
        "plt.title('Training and validation accuracy')\n",
        "plt.legend()\n",
        "\n",
        "plt.figure()\n",
        "\n",
        "plt.plot(epochs, loss, 'b', label='Training loss')\n",
        "plt.plot(epochs, val_loss, 'r', label='Validation loss')\n",
        "plt.title('Training and validation loss')\n",
        "plt.legend()\n",
        "\n",
        "plt.show()"
      ]
    },
    {
      "cell_type": "markdown",
      "metadata": {},
      "source": [
        "#### Accuracy"
      ]
    },
    {
      "cell_type": "code",
      "execution_count": 75,
      "metadata": {
        "id": "4RLCc-_On475"
      },
      "outputs": [
        {
          "name": "stdout",
          "output_type": "stream",
          "text": [
            "1250/1250 [==============================] - 11s 8ms/step - loss: 0.4681 - accuracy: 0.7779\n"
          ]
        }
      ],
      "source": [
        "accr1 = model.evaluate(X_test,Y_test) #we are starting to test the model here"
      ]
    },
    {
      "cell_type": "code",
      "execution_count": 76,
      "metadata": {
        "id": "1d8HSSpUn475"
      },
      "outputs": [
        {
          "name": "stdout",
          "output_type": "stream",
          "text": [
            "Test set\n",
            "  Accuracy: 0.78\n"
          ]
        }
      ],
      "source": [
        "print('Test set\\n  Accuracy: {:0.2f}'.format(accr1[1])) #the accuracy of the model on test data is given below"
      ]
    },
    {
      "cell_type": "markdown",
      "metadata": {},
      "source": [
        "#### Prediction"
      ]
    },
    {
      "cell_type": "code",
      "execution_count": 77,
      "metadata": {
        "id": "W0BTCwWKn475"
      },
      "outputs": [
        {
          "name": "stdout",
          "output_type": "stream",
          "text": [
            "1250/1250 [==============================] - 7s 5ms/step\n"
          ]
        }
      ],
      "source": [
        "y_pred = model.predict(X_test) #getting predictions on the trained model\n",
        "y_pred = (y_pred > 0.5)"
      ]
    },
    {
      "cell_type": "markdown",
      "metadata": {},
      "source": [
        "#### Confusion Matrix"
      ]
    },
    {
      "cell_type": "code",
      "execution_count": 78,
      "metadata": {
        "id": "I3Xwcseln475"
      },
      "outputs": [
        {
          "name": "stdout",
          "output_type": "stream",
          "text": [
            "\n",
            "\n",
            "confusion matrix\n",
            "\n",
            "\n",
            "[[15568  4432]\n",
            " [ 4451 15549]]\n",
            "\n",
            "\n"
          ]
        },
        {
          "data": {
            "image/png": "[encoded data removed]",
            "text/plain": [
              "<Figure size 640x480 with 2 Axes>"
            ]
          },
          "metadata": {},
          "output_type": "display_data"
        }
      ],
      "source": [
        "print('\\n')\n",
        "print(\"confusion matrix\")\n",
        "print('\\n')\n",
        "CR=confusion_matrix(Y_test, y_pred)\n",
        "print(CR)\n",
        "print('\\n')\n",
        "\n",
        "sns.heatmap(CR,annot=True,fmt=\"g\",cmap=\"Blues\")\n",
        "plt.title('Confusion Matrix')\n",
        "plt.xlabel('Predicted')\n",
        "plt.ylabel('Actual')\n",
        "plt.show()"
      ]
    },
    {
      "cell_type": "markdown",
      "metadata": {},
      "source": [
        "### Classification Report"
      ]
    },
    {
      "cell_type": "code",
      "execution_count": 79,
      "metadata": {},
      "outputs": [
        {
          "name": "stdout",
          "output_type": "stream",
          "text": [
            "              precision    recall  f1-score   support\n",
            "\n",
            "           0       0.78      0.78      0.78     20000\n",
            "           1       0.78      0.78      0.78     20000\n",
            "\n",
            "    accuracy                           0.78     40000\n",
            "   macro avg       0.78      0.78      0.78     40000\n",
            "weighted avg       0.78      0.78      0.78     40000\n",
            "\n"
          ]
        }
      ],
      "source": [
        "cr = classification_report(Y_test, y_pred)\n",
        "print(cr)"
      ]
    },
    {
      "cell_type": "markdown",
      "metadata": {},
      "source": [
        "#### ROC Curve"
      ]
    },
    {
      "cell_type": "code",
      "execution_count": 80,
      "metadata": {
        "id": "BzVT_vatn475",
        "scrolled": true
      },
      "outputs": [
        {
          "data": {
            "image/png": "[encoded data removed]",
            "text/plain": [
              "<Figure size 640x480 with 1 Axes>"
            ]
          },
          "metadata": {},
          "output_type": "display_data"
        }
      ],
      "source": [
        "fpr, tpr, thresholds = roc_curve(Y_test, y_pred)\n",
        "roc_auc = auc(fpr, tpr)\n",
        "plt.figure()\n",
        "plt.plot(fpr, tpr, color='darkorange', lw=1, label='ROC curve (area = %0.2f)' % roc_auc)\n",
        "plt.xlim([0.0, 1.0])\n",
        "plt.ylim([0.0, 1.05])\n",
        "plt.xlabel('False Positive Rate')\n",
        "plt.ylabel('True Positive Rate')\n",
        "plt.title('ROC CURVE')\n",
        "plt.legend(loc=\"lower right\")\n",
        "plt.show()"
      ]
    },
    {
      "cell_type": "markdown",
      "metadata": {},
      "source": [
        "### Conclusion"
      ]
    },
    {
      "cell_type": "markdown",
      "metadata": {},
      "source": [
        "MLP:\n",
        "\n",
        "- Precision for negative (0) = 0.78, Recall for negative (0) = 0.77\n",
        "- Precision for positive (1) = 0.78, Recall for positive (1) = 0.78\n",
        "\n",
        "LSTM:\n",
        "\n",
        "- Precision for negative (0) = 0.78, Recall for negative (0) = 0.78\n",
        "- Precision for positive (1) = 0.78, Recall for positive (1) = 0.78\n",
        "\n",
        "Both models show balanced precision and recall for both classes, indicating a strong ability to identify positive and negative sentiments. If the priority is to detect positive sentiments, the MLP model has a slight edge, while the LSTM model is better at detecting negative sentiments."
      ]
    },
    {
      "cell_type": "markdown",
      "metadata": {},
      "source": [
        "This is a pretty good model that we are training here in terms of NLP. Also, you can go ahead and explore the dataset, some tweets may have languages other than English.  This model is good to handle most of the tasks for Sentiment Analysis."
      ]
    },
    {
      "cell_type": "markdown",
      "metadata": {},
      "source": []
    }
  ],
  "metadata": {
    "accelerator": "TPU",
    "colab": {
      "gpuType": "V28",
      "provenance": []
    },
    "kaggle": {
      "accelerator": "none",
      "dataSources": [
        {
          "datasetId": 2477,
          "sourceId": 4140,
          "sourceType": "datasetVersion"
        }
      ],
      "dockerImageVersionId": 30075,
      "isGpuEnabled": false,
      "isInternetEnabled": false,
      "language": "python",
      "sourceType": "notebook"
    },
    "kernelspec": {
      "display_name": "DeepLearning",
      "language": "python",
      "name": "python3"
    },
    "language_info": {
      "codemirror_mode": {
        "name": "ipython",
        "version": 3
      },
      "file_extension": ".py",
      "mimetype": "text/x-python",
      "name": "python",
      "nbconvert_exporter": "python",
      "pygments_lexer": "ipython3",
      "version": "3.10.9"
    }
  },
  "nbformat": 4,
  "nbformat_minor": 0
}
